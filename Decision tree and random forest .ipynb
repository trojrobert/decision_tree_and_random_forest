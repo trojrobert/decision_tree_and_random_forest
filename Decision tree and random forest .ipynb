{
 "cells": [
  {
   "cell_type": "code",
   "execution_count": 27,
   "metadata": {},
   "outputs": [
    {
     "name": "stdout",
     "output_type": "stream",
     "text": [
      "mean_absolute_error when not specifying max_leaf_nodes: 29652.931506849316\n"
     ]
    }
   ],
   "source": [
    "import pandas as pd\n",
    "from sklearn.tree import DecisionTreeRegressor\n",
    "from sklearn.model_selection import train_test_split\n",
    "from sklearn.metrics import mean_absolute_error\n",
    "\n",
    "# Path of the file to read\n",
    "iowa_file_path = 'housing_price_iowa.csv'\n",
    "\n",
    "home_data = pd.read_csv(iowa_file_path)\n",
    "y = home_data.SalePrice\n",
    "feature_columns = ['LotArea', 'YearBuilt', '1stFlrSF', '2ndFlrSF', 'FullBath', 'BedroomAbvGr', 'TotRmsAbvGrd']\n",
    "X = home_data[feature_columns]\n",
    "\n",
    "#Split the data to train and text set \n",
    "train_X, val_X, train_y, val_y = train_test_split(X,y, random_state = 1)\n",
    "\n",
    "# Specify Model\n",
    "iowa_model = DecisionTreeRegressor(random_state=1)\n",
    "# Fit Model\n",
    "iowa_model.fit(train_X, train_y)\n",
    "# Make validation predictions and calculate mean absolute error\n",
    "val_predictions = iowa_model.predict(val_X)\n",
    "mae = mean_absolute_error(val_predictions, val_y)\n",
    "print(\"mean_absolute_error when not specifying max_leaf_nodes: {}\".format(mae))\n",
    "\n",
    "\n",
    "#Calculating the error \n",
    "def get_mae(max_leaf_nodes, train_X, val_X, train_y, val_y):\n",
    "    \n",
    "    # Specify Model\n",
    "    best_iowa_model = DecisionTreeRegressor(max_leaf_nodes = max_leaf_nodes, random_state = 0)\n",
    "    # Fit Model\n",
    "    best_iowa_model.fit(train_X, train_y)\n",
    "\n",
    "    #make predictions with the test set \n",
    "    val_predictions = best_iowa_model.predict(val_X)\n",
    "\n",
    "    # print the top few validation predictions\n",
    "    #print(\"validation prediction \\n {}\".format(val_predictions))\n",
    "    \n",
    "    # print the top few actual prices from validation data\n",
    "    #print(\"Expected value \\n {}\".format(val_y.head()))\n",
    "    \n",
    "    \n",
    "    #calculate error \n",
    "    val_mae = mean_absolute_error(val_y,val_predictions)\n",
    "\n",
    "   \n",
    "    return val_mae\n",
    "\n"
   ]
  },
  {
   "cell_type": "code",
   "execution_count": 28,
   "metadata": {},
   "outputs": [
    {
     "name": "stdout",
     "output_type": "stream",
     "text": [
      "mean_absolute_error for nodes 5 is 35044.51299744237\n",
      "mean_absolute_error for nodes 25 is 29016.41319191076\n",
      "mean_absolute_error for nodes 50 is 27405.930473214907\n",
      "mean_absolute_error for nodes 100 is 27282.50803885739\n",
      "mean_absolute_error for nodes 200 is 28135.69164341533\n",
      "mean_absolute_error for nodes 250 is 27893.822225701646\n",
      "mean_absolute_error for nodes 500 is 29454.18598068598\n",
      "\n",
      "Best_tree_size is 100 \n"
     ]
    }
   ],
   "source": [
    "max_leaf_nodes =[5, 25, 50, 100, 200,250, 500] \n",
    "scores = []\n",
    "#Check the best leaf node to use \n",
    "for max_leaf_node in max_leaf_nodes:\n",
    "    val_mae = get_mae(max_leaf_node, train_X, val_X, train_y, val_y)\n",
    "    scores.append(val_mae)\n",
    "    print(\"mean_absolute_error for nodes {} is {}\".format(max_leaf_node, val_mae))\n",
    "    \n",
    "best_tree_score_index = scores.index(min(scores))   \n",
    "print(\"\\nBest_tree_size is {} \".format(max_leaf_nodes[best_tree_score_index]))    "
   ]
  },
  {
   "cell_type": "markdown",
   "metadata": {},
   "source": [
    "## Random forest \n",
    "The random forest uses many trees, and it makes a prediction by averaging the predictions of each component tree. "
   ]
  },
  {
   "cell_type": "code",
   "execution_count": 29,
   "metadata": {},
   "outputs": [
    {
     "name": "stdout",
     "output_type": "stream",
     "text": [
      "mean_absolute_error for Random Forest Model: 22883.425753424657\n"
     ]
    }
   ],
   "source": [
    "from sklearn.ensemble import RandomForestRegressor\n",
    "\n",
    "# Define the model\n",
    "rf_model = RandomForestRegressor(random_state=1)\n",
    "\n",
    "# fit your model\n",
    "rf_model.fit(train_X, train_y)\n",
    "#make predictions\n",
    "rf_predictions = rf_model.predict(val_X)\n",
    "# Calculate the mean absolute error of your Random Forest model on the validation data\n",
    "rf_val_mae = mean_absolute_error(val_y,rf_predictions)\n",
    "\n",
    "print(\"mean_absolute_error for Random Forest Model: {}\".format(rf_val_mae))\n"
   ]
  },
  {
   "cell_type": "code",
   "execution_count": null,
   "metadata": {},
   "outputs": [],
   "source": [
    "\n"
   ]
  },
  {
   "cell_type": "code",
   "execution_count": null,
   "metadata": {},
   "outputs": [],
   "source": []
  }
 ],
 "metadata": {
  "kernelspec": {
   "display_name": "Python 3",
   "language": "python",
   "name": "python3"
  },
  "language_info": {
   "codemirror_mode": {
    "name": "ipython",
    "version": 3
   },
   "file_extension": ".py",
   "mimetype": "text/x-python",
   "name": "python",
   "nbconvert_exporter": "python",
   "pygments_lexer": "ipython3",
   "version": "3.6.4"
  }
 },
 "nbformat": 4,
 "nbformat_minor": 2
}
